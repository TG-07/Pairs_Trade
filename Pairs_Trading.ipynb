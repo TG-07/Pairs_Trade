{
  "nbformat": 4,
  "nbformat_minor": 0,
  "metadata": {
    "colab": {
      "name": "Pairs Trading.ipynb",
      "provenance": []
    },
    "kernelspec": {
      "name": "python3",
      "display_name": "Python 3"
    },
    "language_info": {
      "name": "python"
    }
  },
  "cells": [
    {
      "cell_type": "code",
      "execution_count": null,
      "metadata": {
        "id": "vptJ1_QKdQi3"
      },
      "outputs": [],
      "source": [
        "import numpy as np\n",
        "import pandas as pd\n",
        "\n",
        "import statsmodels\n",
        "from statsmodels.tsa.stattools import coint\n",
        "# just set the seed for the random number generator\n",
        "np.random.seed(107)\n",
        "\n",
        "import matplotlib.pyplot as plt"
      ]
    },
    {
      "cell_type": "code",
      "source": [
        "# Generate the daily returns\n",
        "Xreturns = np.random.normal(0, 1, 100) \n",
        "# sum them and shift all the prices up\n",
        "X = pd.Series(np.cumsum(Xreturns), name='X') + 50\n",
        "X.plot(figsize=(15,7))\n",
        "plt.show()"
      ],
      "metadata": {
        "id": "x92ZMsbyday4"
      },
      "execution_count": null,
      "outputs": []
    },
    {
      "cell_type": "code",
      "source": [
        "noise = np.random.normal(0, 1, 100)\n",
        "Y = X + 5 + noise\n",
        "Y.name = 'Y'\n",
        "pd.concat([X, Y], axis=1).plot(figsize=(15,7))\n",
        "plt.show()"
      ],
      "metadata": {
        "id": "a72X6T4jddIZ"
      },
      "execution_count": null,
      "outputs": []
    },
    {
      "cell_type": "code",
      "source": [
        "(Y/X).plot(figsize=(15,7)) \n",
        "plt.axhline((Y/X).mean(), color='red', linestyle='--') \n",
        "plt.xlabel('Time')\n",
        "plt.legend(['Price Ratio', 'Mean'])\n",
        "plt.show()"
      ],
      "metadata": {
        "id": "p8_tFoWWdgsH"
      },
      "execution_count": null,
      "outputs": []
    },
    {
      "cell_type": "code",
      "source": [
        "# compute the p-value of the cointegration test\n",
        "# will inform us as to whether the ratio between the 2 timeseries is stationary\n",
        "# around its mean\n",
        "score, pvalue, _ = coint(X,Y)"
      ],
      "metadata": {
        "id": "9LiORoI0djkM"
      },
      "execution_count": null,
      "outputs": []
    },
    {
      "cell_type": "code",
      "source": [
        "def find_cointegrated_pairs(data):\n",
        "    n = data.shape[1]\n",
        "    score_matrix = np.zeros((n, n))\n",
        "    pvalue_matrix = np.ones((n, n))\n",
        "    keys = data.keys()\n",
        "    pairs = []\n",
        "    for i in range(n):\n",
        "        for j in range(i+1, n):\n",
        "            S1 = data[keys[i]]\n",
        "            S2 = data[keys[j]]\n",
        "            result = coint(S1, S2)\n",
        "            score = result[0]\n",
        "            pvalue = result[1]\n",
        "            score_matrix[i, j] = score\n",
        "            pvalue_matrix[i, j] = pvalue\n",
        "            if pvalue < 0.05:\n",
        "                pairs.append((keys[i], keys[j]))\n",
        "    return score_matrix, pvalue_matrix, pairs"
      ],
      "metadata": {
        "id": "H0HKhwBfdmMX"
      },
      "execution_count": null,
      "outputs": []
    },
    {
      "cell_type": "code",
      "source": [
        "from backtester.dataSource.yahoo_data_source import YahooStockDataSource\n",
        "from datetime import datetime\n",
        "\n",
        "startDateStr = '2007/12/01'\n",
        "endDateStr = '2017/12/01'\n",
        "cachedFolderName = 'yahooData/'\n",
        "dataSetId = 'testPairsTrading'\n",
        "instrumentIds = ['SPY','AAPL','ADBE','EBAY','MSFT','QCOM',\n",
        "                 'HPQ','JNPR','AMD','IBM']\n",
        "ds = YahooStockDataSource(cachedFolderName=cachedFolderName,\n",
        "                            dataSetId=dataSetId,\n",
        "                            instrumentIds=instrumentIds,\n",
        "                            startDateStr=startDateStr,\n",
        "                            endDateStr=endDateStr,\n",
        "                            event='history')\n",
        "data = ds.getBookDataByFeature()['adjClose']"
      ],
      "metadata": {
        "id": "oNrojKRSdpsO"
      },
      "execution_count": null,
      "outputs": []
    },
    {
      "cell_type": "code",
      "source": [
        "# Heatmap to show the p-values of the cointegration test\n",
        "# between each pair of stocks\n",
        "\n",
        "scores, pvalues, pairs = find_cointegrated_pairs(data)\n",
        "import seaborn\n",
        "m = [0,0.2,0.4,0.6,0.8,1]\n",
        "seaborn.heatmap(pvalues, xticklabels=instrumentIds, \n",
        "                yticklabels=instrumentIds, cmap='RdYlGn_r' \n",
        "                , mask = (pvalues >= 0.98)\n",
        "                )\n",
        "plt.show()\n",
        "print(pairs)"
      ],
      "metadata": {
        "id": "FxsxEL3TdsYM"
      },
      "execution_count": null,
      "outputs": []
    },
    {
      "cell_type": "code",
      "source": [
        "S1 = data['ADBE']\n",
        "S2 = data['MSFT']\n",
        "score, pvalue, _ = coint(S1, S2)\n",
        "print(pvalue)\n",
        "ratios = S1 / S2\n",
        "ratios.plot(figsize=(15,7))\n",
        "plt.axhline(ratios.mean())\n",
        "plt.legend(['Price Ratio'])\n",
        "plt.show()"
      ],
      "metadata": {
        "id": "tQlUr9mHdw9w"
      },
      "execution_count": null,
      "outputs": []
    },
    {
      "cell_type": "code",
      "source": [
        "def zscore(series):\n",
        "    return (series - series.mean()) / np.std(series)"
      ],
      "metadata": {
        "id": "-2nsfO7Tdzhy"
      },
      "execution_count": null,
      "outputs": []
    },
    {
      "cell_type": "code",
      "source": [
        "zscore(ratios).plot(figsize=(15,7))\n",
        "plt.axhline(zscore(ratios).mean(), color='black')\n",
        "plt.axhline(1.0, color='red', linestyle='--')\n",
        "plt.axhline(-1.0, color='green', linestyle='--')\n",
        "plt.legend(['Ratio z-score', 'Mean', '+1', '-1'])\n",
        "plt.show()"
      ],
      "metadata": {
        "id": "z0mB6Xbpd0Jr"
      },
      "execution_count": null,
      "outputs": []
    },
    {
      "cell_type": "code",
      "source": [
        "ratios = data['ADBE'] / data['MSFT']\n",
        "print(len(ratios))\n",
        "train = ratios[:1762]\n",
        "test = ratios[1762:]"
      ],
      "metadata": {
        "id": "8KqydOF5d2a_"
      },
      "execution_count": null,
      "outputs": []
    },
    {
      "cell_type": "code",
      "source": [
        "ratios_mavg5 = train.rolling(window=5,\n",
        "                               center=False).mean()\n",
        "\n",
        "ratios_mavg60 = train.rolling(window=60,\n",
        "                               center=False).mean()\n",
        "\n",
        "std_60 = train.rolling(window=60,\n",
        "                        center=False).std()\n",
        "\n",
        "zscore_60_5 = (ratios_mavg5 - ratios_mavg60)/std_60\n",
        "plt.figure(figsize=(15,7))\n",
        "plt.plot(train.index, train.values)\n",
        "plt.plot(ratios_mavg5.index, ratios_mavg5.values)\n",
        "plt.plot(ratios_mavg60.index, ratios_mavg60.values)\n",
        "\n",
        "plt.legend(['Ratio','5d Ratio MA', '60d Ratio MA'])\n",
        "\n",
        "plt.ylabel('Ratio')\n",
        "plt.show()"
      ],
      "metadata": {
        "id": "hHbhHgLhd551"
      },
      "execution_count": null,
      "outputs": []
    },
    {
      "cell_type": "code",
      "source": [
        "# Take a rolling 60 day standard deviation\n",
        "std_60 = train.rolling(window=60,center=False).std()\n",
        "std_60.name = 'std 60d'\n",
        "\n",
        "# Compute the z score for each day\n",
        "zscore_60_5 = (ratios_mavg5 - ratios_mavg60)/std_60\n",
        "zscore_60_5.name = 'z-score'\n",
        "\n",
        "plt.figure(figsize=(15,7))\n",
        "zscore_60_5.plot()\n",
        "plt.axhline(0, color='black')\n",
        "plt.axhline(1.0, color='red', linestyle='--')\n",
        "plt.axhline(-1.0, color='green', linestyle='--')\n",
        "plt.legend(['Rolling Ratio z-Score', 'Mean', '+1', '-1'])\n",
        "plt.show()"
      ],
      "metadata": {
        "id": "U23dIqWjd8Xv"
      },
      "execution_count": null,
      "outputs": []
    },
    {
      "cell_type": "code",
      "source": [
        "# Plot the ratios and buy and sell signals from z score\n",
        "plt.figure(figsize=(15,7))\n",
        "\n",
        "train[60:].plot()\n",
        "buy = train.copy()\n",
        "sell = train.copy()\n",
        "buy[zscore_60_5>-1] = 0\n",
        "sell[zscore_60_5<1] = 0\n",
        "buy[60:].plot(color='g', linestyle='None', marker='^')\n",
        "sell[60:].plot(color='r', linestyle='None', marker='^')\n",
        "x1,x2,y1,y2 = plt.axis()\n",
        "plt.axis((x1,x2,ratios.min(),ratios.max()))\n",
        "plt.legend(['Ratio', 'Buy Signal', 'Sell Signal'])\n",
        "plt.show()"
      ],
      "metadata": {
        "id": "sdaSDevLd-vr"
      },
      "execution_count": null,
      "outputs": []
    },
    {
      "cell_type": "code",
      "source": [
        "# Plot the prices and buy and sell signals from z score\n",
        "plt.figure(figsize=(18,9))\n",
        "S1 = data['ADBE'].iloc[:1762]\n",
        "S2 = data['MSFT'].iloc[:1762]\n",
        "\n",
        "S1[60:].plot(color='b')\n",
        "S2[60:].plot(color='c')\n",
        "buyR = 0*S1.copy()\n",
        "sellR = 0*S1.copy()\n",
        "\n",
        "# When buying the ratio, buy S1 and sell S2\n",
        "buyR[buy!=0] = S1[buy!=0]\n",
        "sellR[buy!=0] = S2[buy!=0]\n",
        "# When selling the ratio, sell S1 and buy S2 \n",
        "buyR[sell!=0] = S2[sell!=0]\n",
        "sellR[sell!=0] = S1[sell!=0]\n",
        "\n",
        "buyR[60:].plot(color='g', linestyle='None', marker='^')\n",
        "sellR[60:].plot(color='r', linestyle='None', marker='^')\n",
        "x1,x2,y1,y2 = plt.axis()\n",
        "plt.axis((x1,x2,min(S1.min(),S2.min()),max(S1.max(),S2.max())))\n",
        "\n",
        "plt.legend(['ADBE','MSFT', 'Buy Signal', 'Sell Signal'])\n",
        "plt.show()\n"
      ],
      "metadata": {
        "id": "zyeZG8xdeBDx"
      },
      "execution_count": null,
      "outputs": []
    },
    {
      "cell_type": "code",
      "source": [
        "def trade(S1, S2, window1, window2):\n",
        "    # If window length is 0, algorithm doesn't make sense, so exit\n",
        "    if (window1 == 0) or (window2 == 0):\n",
        "        return 0\n",
        "    # Compute rolling mean and rolling standard deviation\n",
        "    ratios = S1/S2\n",
        "    ma1 = ratios.rolling(window=window1,\n",
        "                               center=False).mean()\n",
        "    ma2 = ratios.rolling(window=window2,\n",
        "                               center=False).mean()\n",
        "    std = ratios.rolling(window=window2,\n",
        "                        center=False).std()\n",
        "    zscore = (ma1 - ma2)/std\n",
        "    # Simulate trading\n",
        "    # Start with no money and no positions\n",
        "    money = 0\n",
        "    countS1 = 0\n",
        "    countS2 = 0\n",
        "    for i in range(len(ratios)):\n",
        "        # Sell short if the z-score is > 1\n",
        "        if zscore[i] > 1:\n",
        "            money += S1[i] - S2[i] * ratios[i]\n",
        "            countS1 -= 1\n",
        "            countS2 += ratios[i]\n",
        "        # Buy long if the z-score is < 1\n",
        "        elif zscore[i] < -1:\n",
        "            money -= S1[i] - S2[i] * ratios[i]\n",
        "            countS1 += 1\n",
        "            countS2 -= ratios[i]\n",
        "        # Clear positions if the z-score between -.5 and .5\n",
        "        elif abs(zscore[i]) < 0.5:\n",
        "            money += countS1*S1[i] + S2[i] * countS2\n",
        "            countS1 = 0\n",
        "            countS2 = 0\n",
        "#         print('Z-score: '+ str(zscore[i]), countS1, countS2, S1[i] , S2[i])\n",
        "    return money\n",
        "\n",
        "\n",
        "trade(data['ADBE'].iloc[:1762], data['MSFT'].iloc[:1762], 5, 60)"
      ],
      "metadata": {
        "id": "JbVf2WgAeDe0"
      },
      "execution_count": null,
      "outputs": []
    },
    {
      "cell_type": "code",
      "source": [
        ""
      ],
      "metadata": {
        "id": "UjGZTfaseHef"
      },
      "execution_count": null,
      "outputs": []
    }
  ]
}